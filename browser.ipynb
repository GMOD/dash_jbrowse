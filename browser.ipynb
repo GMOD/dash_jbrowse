{
 "cells": [
  {
   "cell_type": "code",
   "execution_count": 4,
   "metadata": {},
   "outputs": [],
   "source": [
    "from jupyter_dash import JupyterDash"
   ]
  },
  {
   "cell_type": "code",
   "execution_count": 5,
   "metadata": {},
   "outputs": [],
   "source": [
    "import dash_jbrowse\n",
    "import dash\n",
    "import dash_html_components as html"
   ]
  },
  {
   "cell_type": "code",
   "execution_count": 6,
   "metadata": {},
   "outputs": [],
   "source": [
    "def launch_jbrowse(assembly, tracks, defaultSession, location, aggregateTextSearchAdapters):\n",
    "    app = JupyterDash(__name__)\n",
    "\n",
    "    app.layout = html.Div(\n",
    "        [\n",
    "            dash_jbrowse.DashJbrowse(\n",
    "                id=\"input\",\n",
    "                assembly=assembly,\n",
    "                tracks=tracks,\n",
    "                defaultSession=defaultSession,\n",
    "                location=location,\n",
    "                aggregateTextSearchAdapters=aggregateTextSearchAdapters\n",
    "            ),\n",
    "        ]\n",
    "    )\n",
    "    \n",
    "    app.run_server(mode=\"inline\")"
   ]
  },
  {
   "cell_type": "code",
   "execution_count": 7,
   "metadata": {},
   "outputs": [],
   "source": [
    "my_assembly = {\n",
    "    \"name\": \"GRCh38\",\n",
    "    \"sequence\": {\n",
    "        \"type\": \"ReferenceSequenceTrack\",\n",
    "        \"trackId\": \"GRCh38-ReferenceSequenceTrack\",\n",
    "        \"adapter\": {\n",
    "            \"type\": \"BgzipFastaAdapter\",\n",
    "            \"fastaLocation\": {\n",
    "                \"uri\": \"https://s3.amazonaws.com/jbrowse.org/genomes/GRCh38/fasta/GRCh38.fa.gz\",\n",
    "            },\n",
    "            \"faiLocation\": {\n",
    "                \"uri\": \"https://s3.amazonaws.com/jbrowse.org/genomes/GRCh38/fasta/GRCh38.fa.gz.fai\",\n",
    "            },\n",
    "            \"gziLocation\": {\n",
    "                \"uri\": \"https://s3.amazonaws.com/jbrowse.org/genomes/GRCh38/fasta/GRCh38.fa.gz.gzi\",\n",
    "            },\n",
    "        },\n",
    "    },\n",
    "    \"aliases\": [\"hg38\"],\n",
    "    \"refNameAliases\": {\n",
    "        \"adapter\": {\n",
    "            \"type\": \"RefNameAliasAdapter\",\n",
    "            \"location\": {\n",
    "                \"uri\": \"https://s3.amazonaws.com/jbrowse.org/genomes/GRCh38/hg38_aliases.txt\",\n",
    "            },\n",
    "        },\n",
    "    },\n",
    "}\n",
    "\n",
    "my_tracks = [\n",
    "    {\n",
    "        \"type\": \"FeatureTrack\",\n",
    "        \"trackId\": \"ncbi_refseq_109_hg38\",\n",
    "        \"name\": \"NCBI RefSeq (GFF3Tabix)\",\n",
    "        \"assemblyNames\": [\"GRCh38\"],\n",
    "        \"category\": [\"Annotation\"],\n",
    "        \"adapter\": {\n",
    "            \"type\": \"Gff3TabixAdapter\",\n",
    "            \"gffGzLocation\": {\n",
    "                \"uri\": \"https://s3.amazonaws.com/jbrowse.org/genomes/GRCh38/ncbi_refseq/GCA_000001405.15_GRCh38_full_analysis_set.refseq_annotation.sorted.gff.gz\",\n",
    "            },\n",
    "            \"index\": {\n",
    "                \"location\": {\n",
    "                    \"uri\": \"https://s3.amazonaws.com/jbrowse.org/genomes/GRCh38/ncbi_refseq/GCA_000001405.15_GRCh38_full_analysis_set.refseq_annotation.sorted.gff.gz.tbi\",\n",
    "                },\n",
    "            },\n",
    "        },\n",
    "    },\n",
    "]\n",
    "\n",
    "my_default_session = {\n",
    "    \"name\": \"My session\",\n",
    "    \"view\": {\n",
    "        \"id\": \"linearGenomeView\",\n",
    "        \"type\": \"LinearGenomeView\",\n",
    "        \"tracks\": [\n",
    "            {\n",
    "                \"type\": \"FeatureTrack\",\n",
    "                \"configuration\": \"ncbi_refseq_109_hg38\",\n",
    "                \"displays\": [\n",
    "                    {\n",
    "                        \"type\": \"LinearBasicDisplay\",\n",
    "                        \"configuration\": \"ncbi_refseq_109_hg38-LinearBasicDisplay\",\n",
    "                    },\n",
    "                ],\n",
    "            },\n",
    "        ],\n",
    "    },\n",
    "}\n",
    "my_aggregate_text_search_adapters=[\n",
    "    {\n",
    "        \"type\": \"TrixTextSearchAdapter\",\n",
    "        \"textSearchAdapterId\": \"hg38-index\",\n",
    "        \"ixFilePath\": {\n",
    "            \"uri\": \"https://s3.amazonaws.com/jbrowse.org/genomes/GRCh38/trix/hg38.ix\"\n",
    "        },\n",
    "        \"ixxFilePath\": {\n",
    "            \"uri\": \"https://s3.amazonaws.com/jbrowse.org/genomes/GRCh38/trix/hg38.ixx\"\n",
    "        },\n",
    "        \"metaFilePath\": {\n",
    "            \"uri\": \"https://s3.amazonaws.com/jbrowse.org/genomes/GRCh38/trix/meta.json\"\n",
    "        },\n",
    "        \"assemblyNames\": ['GRCh38'],\n",
    "    }\n",
    "]\n",
    "my_location = \"7:140,713,328-140,924,929\"\n"
   ]
  },
  {
   "cell_type": "code",
   "execution_count": 8,
   "metadata": {},
   "outputs": [
    {
     "ename": "TypeError",
     "evalue": "Required argument `type` was not specified.",
     "output_type": "error",
     "traceback": [
      "\u001b[0;31m---------------------------------------------------------------------------\u001b[0m",
      "\u001b[0;31mTypeError\u001b[0m                                 Traceback (most recent call last)",
      "\u001b[0;32m<ipython-input-8-b050375a9286>\u001b[0m in \u001b[0;36m<module>\u001b[0;34m\u001b[0m\n\u001b[0;32m----> 1\u001b[0;31m \u001b[0mlaunch_jbrowse\u001b[0m\u001b[0;34m(\u001b[0m\u001b[0mmy_assembly\u001b[0m\u001b[0;34m,\u001b[0m \u001b[0mmy_tracks\u001b[0m\u001b[0;34m,\u001b[0m \u001b[0mmy_default_session\u001b[0m\u001b[0;34m,\u001b[0m \u001b[0mmy_location\u001b[0m\u001b[0;34m,\u001b[0m \u001b[0mmy_aggregate_text_search_adapters\u001b[0m\u001b[0;34m)\u001b[0m\u001b[0;34m\u001b[0m\u001b[0;34m\u001b[0m\u001b[0m\n\u001b[0m",
      "\u001b[0;32m<ipython-input-6-4d675967e598>\u001b[0m in \u001b[0;36mlaunch_jbrowse\u001b[0;34m(assembly, tracks, defaultSession, location, aggregateTextSearchAdapters)\u001b[0m\n\u001b[1;32m      4\u001b[0m     app.layout = html.Div(\n\u001b[1;32m      5\u001b[0m         [\n\u001b[0;32m----> 6\u001b[0;31m             dash_jbrowse.DashJbrowse(\n\u001b[0m\u001b[1;32m      7\u001b[0m                 \u001b[0mid\u001b[0m\u001b[0;34m=\u001b[0m\u001b[0;34m\"input\"\u001b[0m\u001b[0;34m,\u001b[0m\u001b[0;34m\u001b[0m\u001b[0;34m\u001b[0m\u001b[0m\n\u001b[1;32m      8\u001b[0m                 \u001b[0massembly\u001b[0m\u001b[0;34m=\u001b[0m\u001b[0massembly\u001b[0m\u001b[0;34m,\u001b[0m\u001b[0;34m\u001b[0m\u001b[0;34m\u001b[0m\u001b[0m\n",
      "\u001b[0;32m~/opt/anaconda3/lib/python3.8/site-packages/dash/development/base_component.py\u001b[0m in \u001b[0;36mwrapper\u001b[0;34m(*args, **kwargs)\u001b[0m\n\u001b[1;32m    364\u001b[0m         \u001b[0;32mif\u001b[0m \u001b[0;34m\"self\"\u001b[0m \u001b[0;32min\u001b[0m \u001b[0mkwargs\u001b[0m\u001b[0;34m[\u001b[0m\u001b[0;34m\"_explicit_args\"\u001b[0m\u001b[0;34m]\u001b[0m\u001b[0;34m:\u001b[0m\u001b[0;34m\u001b[0m\u001b[0;34m\u001b[0m\u001b[0m\n\u001b[1;32m    365\u001b[0m             \u001b[0mkwargs\u001b[0m\u001b[0;34m[\u001b[0m\u001b[0;34m\"_explicit_args\"\u001b[0m\u001b[0;34m]\u001b[0m\u001b[0;34m.\u001b[0m\u001b[0mremove\u001b[0m\u001b[0;34m(\u001b[0m\u001b[0;34m\"self\"\u001b[0m\u001b[0;34m)\u001b[0m\u001b[0;34m\u001b[0m\u001b[0;34m\u001b[0m\u001b[0m\n\u001b[0;32m--> 366\u001b[0;31m         \u001b[0;32mreturn\u001b[0m \u001b[0mfunc\u001b[0m\u001b[0;34m(\u001b[0m\u001b[0;34m*\u001b[0m\u001b[0margs\u001b[0m\u001b[0;34m,\u001b[0m \u001b[0;34m**\u001b[0m\u001b[0mkwargs\u001b[0m\u001b[0;34m)\u001b[0m\u001b[0;34m\u001b[0m\u001b[0;34m\u001b[0m\u001b[0m\n\u001b[0m\u001b[1;32m    367\u001b[0m \u001b[0;34m\u001b[0m\u001b[0m\n\u001b[1;32m    368\u001b[0m     \u001b[0;31m# If Python 3, we can set the function signature to be correct\u001b[0m\u001b[0;34m\u001b[0m\u001b[0;34m\u001b[0m\u001b[0;34m\u001b[0m\u001b[0m\n",
      "\u001b[0;32m~/Desktop/JBrowse2/dash_jbrowse/dash_jbrowse/DashJbrowse.py\u001b[0m in \u001b[0;36m__init__\u001b[0;34m(self, id, type, assembly, tracks, defaultSession, location, aggregateTextSearchAdapters, **kwargs)\u001b[0m\n\u001b[1;32m     46\u001b[0m         \u001b[0;32mfor\u001b[0m \u001b[0mk\u001b[0m \u001b[0;32min\u001b[0m \u001b[0;34m[\u001b[0m\u001b[0;34m'type'\u001b[0m\u001b[0;34m]\u001b[0m\u001b[0;34m:\u001b[0m\u001b[0;34m\u001b[0m\u001b[0;34m\u001b[0m\u001b[0m\n\u001b[1;32m     47\u001b[0m             \u001b[0;32mif\u001b[0m \u001b[0mk\u001b[0m \u001b[0;32mnot\u001b[0m \u001b[0;32min\u001b[0m \u001b[0margs\u001b[0m\u001b[0;34m:\u001b[0m\u001b[0;34m\u001b[0m\u001b[0;34m\u001b[0m\u001b[0m\n\u001b[0;32m---> 48\u001b[0;31m                 raise TypeError(\n\u001b[0m\u001b[1;32m     49\u001b[0m                     'Required argument `' + k + '` was not specified.')\n\u001b[1;32m     50\u001b[0m         \u001b[0msuper\u001b[0m\u001b[0;34m(\u001b[0m\u001b[0mDashJbrowse\u001b[0m\u001b[0;34m,\u001b[0m \u001b[0mself\u001b[0m\u001b[0;34m)\u001b[0m\u001b[0;34m.\u001b[0m\u001b[0m__init__\u001b[0m\u001b[0;34m(\u001b[0m\u001b[0;34m**\u001b[0m\u001b[0margs\u001b[0m\u001b[0;34m)\u001b[0m\u001b[0;34m\u001b[0m\u001b[0;34m\u001b[0m\u001b[0m\n",
      "\u001b[0;31mTypeError\u001b[0m: Required argument `type` was not specified."
     ]
    }
   ],
   "source": [
    "launch_jbrowse(my_assembly, my_tracks, my_default_session, my_location, my_aggregate_text_search_adapters)"
   ]
  }
 ],
 "metadata": {
  "kernelspec": {
   "display_name": "Python 3",
   "language": "python",
   "name": "python3"
  },
  "language_info": {
   "codemirror_mode": {
    "name": "ipython",
    "version": 3
   },
   "file_extension": ".py",
   "mimetype": "text/x-python",
   "name": "python",
   "nbconvert_exporter": "python",
   "pygments_lexer": "ipython3",
   "version": "3.8.5"
  }
 },
 "nbformat": 4,
 "nbformat_minor": 4
}
