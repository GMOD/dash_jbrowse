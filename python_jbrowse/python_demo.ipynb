{
 "cells": [
  {
   "cell_type": "code",
   "execution_count": 1,
   "metadata": {},
   "outputs": [
    {
     "name": "stderr",
     "output_type": "stream",
     "text": [
      "/Users/emmaguo/dash_jbrowse/python_jbrowse/jbrowse_config.py:5: UserWarning: \n",
      "The dash_html_components package is deprecated. Please replace\n",
      "`import dash_html_components as html` with `from dash import html`\n",
      "  import dash_html_components as html\n"
     ]
    }
   ],
   "source": [
    "import sys\n",
    "sys.path.append('../')\n",
    "from jbrowse_config import JBrowseConfig"
   ]
  },
  {
   "cell_type": "code",
   "execution_count": 2,
   "metadata": {},
   "outputs": [
    {
     "name": "stdout",
     "output_type": "stream",
     "text": [
      "14\n",
      "<bound method JBrowseConfig.get_config of <jbrowse_config.JBrowseConfig object at 0x7f9638a79d30>>\n"
     ]
    }
   ],
   "source": [
    "jbrowse_conf = JBrowseConfig()\n",
    "aliases = [\"hg38\"]\n",
    "ref_name_aliases = {\n",
    "        \"adapter\": {\n",
    "            \"type\": \"RefNameAliasAdapter\",\n",
    "            \"location\": {\n",
    "                \"uri\": \"https://s3.amazonaws.com/jbrowse.org/genomes/GRCh38/hg38_aliases.txt\",\n",
    "            },\n",
    "        },\n",
    "    }\n",
    "# print(len(\"./GRCh38.fa.gz\"))\n",
    "# for i in range(0, len(\"./GRCh38.fa.gz\")):\n",
    "#     print(\"./GRCh38.fa.gz\"[i: i + 1])\n",
    "jbrowse_conf.set_assembly(\"./GRCh38.fa.gz\", aliases, ref_name_aliases, True)\n",
    "\n",
    "\n",
    "print(jbrowse_conf.get_config)"
   ]
  },
  {
   "cell_type": "markdown",
   "metadata": {},
   "source": []
  },
  {
   "cell_type": "markdown",
   "metadata": {},
   "source": []
  },
  {
   "cell_type": "code",
   "execution_count": 3,
   "metadata": {},
   "outputs": [],
   "source": [
    "jbrowse_conf = JBrowseConfig()\n",
    "\n",
    "name = \"GRCh38\"\n",
    "sequence = {\n",
    "        \"type\": \"ReferenceSequenceTrack\",\n",
    "        \"trackId\": \"GRCh38-ReferenceSequenceTrack\",\n",
    "        \"adapter\": {\n",
    "            \"type\": \"BgzipFastaAdapter\",\n",
    "            \"fastaLocation\": {\n",
    "                \"uri\": \"https://s3.amazonaws.com/jbrowse.org/genomes/GRCh38/fasta/GRCh38.fa.gz\",\n",
    "            },\n",
    "            \"faiLocation\": {\n",
    "                \"uri\": \"https://s3.amazonaws.com/jbrowse.org/genomes/GRCh38/fasta/GRCh38.fa.gz.fai\",\n",
    "            },\n",
    "            \"gziLocation\": {\n",
    "                \"uri\": \"https://s3.amazonaws.com/jbrowse.org/genomes/GRCh38/fasta/GRCh38.fa.gz.gzi\",\n",
    "            },\n",
    "        },\n",
    "    }\n",
    "aliases = [\"hg38\"]\n",
    "ref_name_aliases = {\n",
    "        \"adapter\": {\n",
    "            \"type\": \"RefNameAliasAdapter\",\n",
    "            \"location\": {\n",
    "                \"uri\": \"https://s3.amazonaws.com/jbrowse.org/genomes/GRCh38/hg38_aliases.txt\",\n",
    "            },\n",
    "        },\n",
    "    }\n",
    "\n",
    "jbrowse_conf.init_assembly(name, sequence, aliases, ref_name_aliases)\n",
    "\n",
    "tracks = [\n",
    "    {\n",
    "        \"type\": \"FeatureTrack\",\n",
    "        \"trackId\": \"ncbi_refseq_109_hg38\",\n",
    "        \"name\": \"NCBI RefSeq (GFF3Tabix)\",\n",
    "        \"assemblyNames\": [\"GRCh38\"],\n",
    "        \"category\": [\"Annotation\"],\n",
    "        \"adapter\": {\n",
    "            \"type\": \"Gff3TabixAdapter\",\n",
    "            \"gffGzLocation\": {\n",
    "                \"uri\": \"https://s3.amazonaws.com/jbrowse.org/genomes/GRCh38/ncbi_refseq/GCA_000001405.15_GRCh38_full_analysis_set.refseq_annotation.sorted.gff.gz\",\n",
    "            },\n",
    "            \"index\": {\n",
    "                \"location\": {\n",
    "                    \"uri\": \"https://s3.amazonaws.com/jbrowse.org/genomes/GRCh38/ncbi_refseq/GCA_000001405.15_GRCh38_full_analysis_set.refseq_annotation.sorted.gff.gz.tbi\",\n",
    "                },\n",
    "            },\n",
    "        },\n",
    "    }\n",
    "]\n",
    "\n",
    "jbrowse_conf.init_tracks(tracks)\n",
    "jbrowse_conf.init_location(\"7:140,713,328-140,924,929\")\n",
    "session_name = \"My session\"\n",
    "view = {\n",
    "        \"id\": \"linearGenomeView\",\n",
    "        \"type\": \"LinearGenomeView\",\n",
    "        \"tracks\": [\n",
    "            {\n",
    "                \"type\": \"FeatureTrack\",\n",
    "                \"configuration\": \"ncbi_refseq_109_hg38\",\n",
    "                \"displays\": [\n",
    "                    {\n",
    "                        \"type\": \"LinearBasicDisplay\",\n",
    "                        \"configuration\": \"ncbi_refseq_109_hg38-LinearBasicDisplay\",\n",
    "                    },\n",
    "                ],\n",
    "            },\n",
    "        ],\n",
    "    }\n",
    "jbrowse_conf.init_session(name, view)"
   ]
  },
  {
   "cell_type": "code",
   "execution_count": 4,
   "metadata": {},
   "outputs": [
    {
     "data": {
      "text/html": [
       "\n",
       "        <iframe\n",
       "            width=\"100%\"\n",
       "            height=\"650\"\n",
       "            src=\"http://127.0.0.1:8050/\"\n",
       "            frameborder=\"0\"\n",
       "            allowfullscreen\n",
       "        ></iframe>\n",
       "        "
      ],
      "text/plain": [
       "<IPython.lib.display.IFrame at 0x7fc659389fd0>"
      ]
     },
     "metadata": {},
     "output_type": "display_data"
    }
   ],
   "source": [
    "jbrowse_conf.launch_jbrowse()"
   ]
  },
  {
   "cell_type": "code",
   "execution_count": null,
   "metadata": {},
   "outputs": [],
   "source": []
  },
  {
   "cell_type": "code",
   "execution_count": 4,
   "metadata": {},
   "outputs": [
    {
     "name": "stderr",
     "output_type": "stream",
     "text": [
      "/Users/emmaguo/dash_jbrowse/venv/lib/python3.9/site-packages/jupyter_dash/jupyter_app.py:139: UserWarning:\n",
      "\n",
      "The 'environ['werkzeug.server.shutdown']' function is deprecated and will be removed in Werkzeug 2.1.\n",
      "\n"
     ]
    },
    {
     "data": {
      "text/html": [
       "\n",
       "        <iframe\n",
       "            width=\"100%\"\n",
       "            height=\"650\"\n",
       "            src=\"http://127.0.0.1:8050/\"\n",
       "            frameborder=\"0\"\n",
       "            allowfullscreen\n",
       "        ></iframe>\n",
       "        "
      ],
      "text/plain": [
       "<IPython.lib.display.IFrame at 0x7ff470b6b880>"
      ]
     },
     "metadata": {},
     "output_type": "display_data"
    }
   ],
   "source": [
    "jbrowse_conf.init_location(\"8:140,713,328-140,924,929\")\n",
    "jbrowse_conf.launch_jbrowse()"
   ]
  },
  {
   "cell_type": "code",
   "execution_count": 16,
   "metadata": {},
   "outputs": [],
   "source": [
    "# TEST WITH TOMATO DATA \n",
    "\n",
    "assem_name = \"SL4.0\"\n",
    "seq_type = \"ReferenceSequenceTrack\"\n",
    "seq_track_id = \"tomato\"\n",
    "seq_adapt_type = \"ReferenceSequenceTrack\"\n",
    "seq_fasta_loc = \"https://s3.amazonaws.com/jbrowse.org/genomes/tomato/SL4.0/S_lycopersicum_chromosomes.4.00.fa.gz\"\n",
    "            \n",
    "seq_fai_loc = \"https://s3.amazonaws.com/jbrowse.org/genomes/tomato/SL4.0/S_lycopersicum_chromosomes.4.00.fa.gz.fai\"\n",
    "            \n",
    "seq_gzi_loc = \"https://s3.amazonaws.com/jbrowse.org/genomes/tomato/SL4.0/S_lycopersicum_chromosomes.4.00.fa.gz.gzi\"\n",
    "           \n",
    "\n",
    "\n",
    "    \"tracks\": [],\n",
    "    \"location\": \"SL4.0ch00:1..9,643,250\",\n",
    "    \"defaultSession\": {\n",
    "        \"name\": \"Default\",\n",
    "        \"view\": {\n",
    "            \"id\": \"nm9TbEfGx\",\n",
    "            \"type\": \"LinearGenomeView\",\n",
    "            \"offsetPx\": 6318.444583982504,\n",
    "            \"bpPerPx\": -85,\n",
    "            \"displayedRegions\": [\n",
    "                {\n",
    "                    \"refName\": \"SL4.0ch00\",\n",
    "                    \"start\": 0,\n",
    "                    \"end\": 9643250,\n",
    "                    \"reversed\": false,\n",
    "                    \"assemblyName\": \"SL4.0\"\n",
    "                }\n",
    "            ],\n",
    "            \"tracks\": [],\n",
    "            \"hideHeader\": false,\n",
    "            \"hideHeaderOverview\": false,\n",
    "            \"trackSelectorType\": \"hierarchical\",\n",
    "            \"trackLabels\": \"overlapping\",\n",
    "            \"showCenterLine\": false\n",
    "        }\n",
    "    }\n",
    "}\n",
    "\n",
    "jbrowse_conf.set_assem_name(assem_name)\n",
    "jbrowse_conf.set_assem_seq(seq_type, seq_track_id, seq_adapt_type, seq_fasta_loc, seq_fai_loc, seq_gzi_loc)\n",
    "#jbrowse_conf.set_assem_aliases(aliases)\n",
    "#jbrowse_conf.set_assem_ref_name(self, ref_name_aliases)"
   ]
  },
  {
   "cell_type": "code",
   "execution_count": 18,
   "metadata": {},
   "outputs": [
    {
     "data": {
      "text/html": [
       "\n",
       "        <iframe\n",
       "            width=\"100%\"\n",
       "            height=\"650\"\n",
       "            src=\"http://127.0.0.1:8050/\"\n",
       "            frameborder=\"0\"\n",
       "            allowfullscreen\n",
       "        ></iframe>\n",
       "        "
      ],
      "text/plain": [
       "<IPython.lib.display.IFrame at 0x7ff4408cf280>"
      ]
     },
     "metadata": {},
     "output_type": "display_data"
    }
   ],
   "source": []
  }
 ],
 "metadata": {
  "interpreter": {
   "hash": "555e531d3f6fa34b117c8718029008b0793cbd97ba2f45b59b2332740394664c"
  },
  "kernelspec": {
   "display_name": "Python 3.9.2 64-bit ('venv': venv)",
   "name": "python3"
  },
  "language_info": {
   "codemirror_mode": {
    "name": "ipython",
    "version": 3
   },
   "file_extension": ".py",
   "mimetype": "text/x-python",
   "name": "python",
   "nbconvert_exporter": "python",
   "pygments_lexer": "ipython3",
   "version": "3.9.2"
  }
 },
 "nbformat": 4,
 "nbformat_minor": 2
}
