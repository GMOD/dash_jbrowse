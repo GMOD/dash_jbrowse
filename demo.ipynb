{
 "metadata": {
  "language_info": {
   "codemirror_mode": {
    "name": "ipython",
    "version": 3
   },
   "file_extension": ".py",
   "mimetype": "text/x-python",
   "name": "python",
   "nbconvert_exporter": "python",
   "pygments_lexer": "ipython3",
   "version": "3.8.5"
  },
  "orig_nbformat": 2,
  "kernelspec": {
   "name": "python3",
   "display_name": "Python 3.8.5 64-bit ('base': conda)",
   "metadata": {
    "interpreter": {
     "hash": "d71ad1312205c4af66ddf16a009e80b6b1866332a6a57cb77f5c8248a5f1dd2a"
    }
   }
  }
 },
 "nbformat": 4,
 "nbformat_minor": 2,
 "cells": [
  {
   "cell_type": "code",
   "execution_count": 3,
   "metadata": {},
   "outputs": [],
   "source": [
    "from jupyter_dash import JupyterDash\n",
    "from dash_jbrowse import JBrowseConfig, create_jbrowse\n",
    "import dash_html_components as html"
   ]
  },
  {
   "cell_type": "code",
   "execution_count": 4,
   "metadata": {},
   "outputs": [],
   "source": [
    "def launch_jbrowse(jb2):\n",
    "    app = JupyterDash(__name__)\n",
    "    app.layout = html.Div([jb2])\n",
    "    app.run_server(mode=\"inline\")"
   ]
  },
  {
   "cell_type": "code",
   "execution_count": 5,
   "metadata": {},
   "outputs": [
    {
     "output_type": "display_data",
     "data": {
      "text/plain": "<IPython.lib.display.IFrame at 0x7f8e388cb250>",
      "text/html": "\n        <iframe\n            width=\"100%\"\n            height=\"650\"\n            src=\"http://127.0.0.1:8050/\"\n            frameborder=\"0\"\n            allowfullscreen\n        ></iframe>\n        "
     },
     "metadata": {}
    }
   ],
   "source": [
    "launch_jbrowse(create_jbrowse('view', genome='hg38'))"
   ]
  },
  {
   "cell_type": "code",
   "execution_count": null,
   "metadata": {},
   "outputs": [],
   "source": [
    "jb2_config_view = create_jbrowse(viewType='JB2config', path='./test_data/volvox_config.json')\n",
    "launch_jbrowse(jb2_config_view)"
   ]
  },
  {
   "cell_type": "code",
   "execution_count": 8,
   "metadata": {},
   "outputs": [
    {
     "output_type": "stream",
     "name": "stdout",
     "text": [
      "name:hg38\n{'assembly': {'name': 'hg38', 'sequence': {'type': 'ReferenceSequenceTrack', 'trackId': 'hg38-ReferenceSequenceTrack', 'adapter': {'type': 'BgzipFastaAdapter', 'fastaLocation': {'uri': 'https://jbrowse.org/genomes/GRCh38/fasta/hg38.prefix.fa.gz', 'locationType': 'UriLocation'}, 'faiLocation': {'uri': 'https://jbrowse.org/genomes/GRCh38/fasta/hg38.prefix.fa.gz.fai', 'locationType': 'UriLocation'}, 'gziLocation': {'uri': 'https://jbrowse.org/genomes/GRCh38/fasta/hg38.prefix.fa.gz.gzi', 'locationType': 'UriLocation'}}}, 'aliases': ['hg38'], 'refNameAliases': {'adapter': {'type': 'RefNameAliasAdapter', 'location': {'uri': 'https://s3.amazonaws.com/jbrowse.org/genomes/GRCh38/hg38_aliases.txt', 'locationType': 'UriLocation'}}}}, 'tracks': [], 'defaultSession': {}, 'location': ''}\n"
     ]
    },
    {
     "output_type": "display_data",
     "data": {
      "text/plain": "<IPython.lib.display.IFrame at 0x7f8e58d3d940>",
      "text/html": "\n        <iframe\n            width=\"100%\"\n            height=\"650\"\n            src=\"http://127.0.0.1:8050/\"\n            frameborder=\"0\"\n            allowfullscreen\n        ></iframe>\n        "
     },
     "metadata": {}
    }
   ],
   "source": [
    "\n",
    "jbrowse_conf = JBrowseConfig()\n",
    "\n",
    "\n",
    "aliases = [\"hg38\"]\n",
    "ref_name_aliases = {\n",
    "        \"adapter\": {\n",
    "            \"type\": \"RefNameAliasAdapter\",\n",
    "            \"location\": {\n",
    "                \"uri\": \"https://s3.amazonaws.com/jbrowse.org/genomes/GRCh38/hg38_aliases.txt\",\n",
    "                \"locationType\": \"UriLocation\",\n",
    "            },\n",
    "        },\n",
    "    }\n",
    "# print(len(\"./GRCh38.fa.gz\"))\n",
    "# for i in range(0, len(\"./GRCh38.fa.gz\")):\n",
    "#     print(\"./GRCh38.fa.gz\"[i: i + 1])\n",
    "jbrowse_conf.set_assembly(\"https://jbrowse.org/genomes/GRCh38/fasta/hg38.prefix.fa.gz\", aliases, ref_name_aliases, True)\n",
    "config = jbrowse_conf.get_config()\n",
    "print(config)\n",
    "jb2_config_view = create_jbrowse(viewType='config', config=config)\n",
    "# print(jb2_config_view)\n",
    "launch_jbrowse(jb2_config_view)"
   ]
  },
  {
   "cell_type": "code",
   "execution_count": null,
   "metadata": {},
   "outputs": [],
   "source": []
  }
 ]
}