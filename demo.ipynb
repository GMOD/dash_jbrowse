{
 "metadata": {
  "language_info": {
   "codemirror_mode": {
    "name": "ipython",
    "version": 3
   },
   "file_extension": ".py",
   "mimetype": "text/x-python",
   "name": "python",
   "nbconvert_exporter": "python",
   "pygments_lexer": "ipython3",
   "version": "3.8.5"
  },
  "orig_nbformat": 2,
  "kernelspec": {
   "name": "python3",
   "display_name": "Python 3.8.5 64-bit ('base': conda)",
   "metadata": {
    "interpreter": {
     "hash": "d71ad1312205c4af66ddf16a009e80b6b1866332a6a57cb77f5c8248a5f1dd2a"
    }
   }
  }
 },
 "nbformat": 4,
 "nbformat_minor": 2,
 "cells": [
  {
   "cell_type": "code",
   "execution_count": 11,
   "metadata": {},
   "outputs": [],
   "source": [
    "from jupyter_dash import JupyterDash\n",
    "from dash_jbrowse import JBrowseConfig, create_jbrowse"
   ]
  },
  {
   "cell_type": "code",
   "execution_count": 12,
   "metadata": {},
   "outputs": [],
   "source": [
    "def launch_jbrowse(jb2):\n",
    "    app = JupyterDash(__name__)\n",
    "\n",
    "    app.layout = jb2\n",
    "    \n",
    "    app.run_server(mode=\"inline\")"
   ]
  },
  {
   "cell_type": "code",
   "execution_count": 13,
   "metadata": {},
   "outputs": [
    {
     "output_type": "display_data",
     "data": {
      "text/plain": "<IPython.lib.display.IFrame at 0x7fab098c6430>",
      "text/html": "\n        <iframe\n            width=\"100%\"\n            height=\"650\"\n            src=\"http://127.0.0.1:8050/\"\n            frameborder=\"0\"\n            allowfullscreen\n        ></iframe>\n        "
     },
     "metadata": {}
    }
   ],
   "source": [
    "jb_genome_view = create_jbrowse(viewType='view', genome='hg19')\n",
    "launch_jbrowse(jb_genome_view)"
   ]
  },
  {
   "cell_type": "code",
   "execution_count": 14,
   "metadata": {},
   "outputs": [
    {
     "output_type": "error",
     "ename": "NameError",
     "evalue": "name 'dash_jbrowse' is not defined",
     "traceback": [
      "\u001b[0;31m---------------------------------------------------------------------------\u001b[0m",
      "\u001b[0;31mNameError\u001b[0m                                 Traceback (most recent call last)",
      "\u001b[0;32m<ipython-input-14-fe36eb3583dd>\u001b[0m in \u001b[0;36m<module>\u001b[0;34m\u001b[0m\n\u001b[0;32m----> 1\u001b[0;31m \u001b[0mjb_config_view\u001b[0m \u001b[0;34m=\u001b[0m \u001b[0mcreate_jbrowse\u001b[0m\u001b[0;34m(\u001b[0m\u001b[0mviewType\u001b[0m\u001b[0;34m=\u001b[0m\u001b[0;34m'JB2config'\u001b[0m\u001b[0;34m,\u001b[0m \u001b[0mpath\u001b[0m\u001b[0;34m=\u001b[0m\u001b[0;34m'./test_data/volvox_config.json'\u001b[0m\u001b[0;34m)\u001b[0m\u001b[0;34m\u001b[0m\u001b[0;34m\u001b[0m\u001b[0m\n\u001b[0m\u001b[1;32m      2\u001b[0m \u001b[0mlaunch_jbrowse\u001b[0m\u001b[0;34m(\u001b[0m\u001b[0mjb_config_view\u001b[0m\u001b[0;34m)\u001b[0m\u001b[0;34m\u001b[0m\u001b[0;34m\u001b[0m\u001b[0m\n",
      "\u001b[0;32m~/Desktop/JBrowse2/dash_jbrowse/dash_jbrowse/jbrowse_config.py\u001b[0m in \u001b[0;36mcreate_jbrowse\u001b[0;34m(**kwargs)\u001b[0m\n\u001b[1;32m     21\u001b[0m         \u001b[0mmy_default_session\u001b[0m \u001b[0;34m=\u001b[0m \u001b[0mdata\u001b[0m\u001b[0;34m[\u001b[0m\u001b[0;34m'defaultSession'\u001b[0m\u001b[0;34m]\u001b[0m\u001b[0;34m\u001b[0m\u001b[0;34m\u001b[0m\u001b[0m\n\u001b[1;32m     22\u001b[0m         return html.Div([\n\u001b[0;32m---> 23\u001b[0;31m             dash_jbrowse.DashJbrowse(\n\u001b[0m\u001b[1;32m     24\u001b[0m                 \u001b[0mid\u001b[0m\u001b[0;34m=\u001b[0m\u001b[0;34m\"view-demo\"\u001b[0m\u001b[0;34m,\u001b[0m\u001b[0;34m\u001b[0m\u001b[0;34m\u001b[0m\u001b[0m\n\u001b[1;32m     25\u001b[0m                 \u001b[0mviewType\u001b[0m\u001b[0;34m=\u001b[0m\u001b[0;34m'JB2config'\u001b[0m\u001b[0;34m,\u001b[0m\u001b[0;34m\u001b[0m\u001b[0;34m\u001b[0m\u001b[0m\n",
      "\u001b[0;31mNameError\u001b[0m: name 'dash_jbrowse' is not defined"
     ]
    }
   ],
   "source": [
    "jb_config_view = create_jbrowse(viewType='JB2config', path='./test_data/volvox_config.json')\n",
    "launch_jbrowse(jb_config_view)"
   ]
  },
  {
   "cell_type": "code",
   "execution_count": null,
   "metadata": {},
   "outputs": [],
   "source": []
  }
 ]
}