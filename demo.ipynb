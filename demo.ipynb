{
 "metadata": {
  "language_info": {
   "codemirror_mode": {
    "name": "ipython",
    "version": 3
   },
   "file_extension": ".py",
   "mimetype": "text/x-python",
   "name": "python",
   "nbconvert_exporter": "python",
   "pygments_lexer": "ipython3",
   "version": "3.8.5"
  },
  "orig_nbformat": 2,
  "kernelspec": {
   "name": "python3",
   "display_name": "Python 3.8.5 64-bit ('base': conda)",
   "metadata": {
    "interpreter": {
     "hash": "d71ad1312205c4af66ddf16a009e80b6b1866332a6a57cb77f5c8248a5f1dd2a"
    }
   }
  }
 },
 "nbformat": 4,
 "nbformat_minor": 2,
 "cells": [
  {
   "cell_type": "code",
   "execution_count": 1,
   "metadata": {},
   "outputs": [],
   "source": [
    "from jupyter_dash import JupyterDash\n",
    "from dash_jbrowse import JBrowseConfig, create_jbrowse\n",
    "import dash_html_components as html"
   ]
  },
  {
   "cell_type": "code",
   "execution_count": 2,
   "metadata": {},
   "outputs": [],
   "source": [
    "def launch_jbrowse(jb2):\n",
    "    app = JupyterDash(__name__)\n",
    "    app.layout = html.Div([jb2])\n",
    "    app.run_server(mode=\"inline\")"
   ]
  },
  {
   "cell_type": "code",
   "execution_count": 3,
   "metadata": {},
   "outputs": [
    {
     "output_type": "stream",
     "name": "stdout",
     "text": [
      "view\n"
     ]
    },
    {
     "output_type": "display_data",
     "data": {
      "text/plain": "<IPython.lib.display.IFrame at 0x7fa710791eb0>",
      "text/html": "\n        <iframe\n            width=\"100%\"\n            height=\"650\"\n            src=\"http://127.0.0.1:8050/\"\n            frameborder=\"0\"\n            allowfullscreen\n        ></iframe>\n        "
     },
     "metadata": {}
    }
   ],
   "source": [
    "launch_jbrowse(create_jbrowse('view', genome='hg38'))"
   ]
  },
  {
   "cell_type": "code",
   "execution_count": 6,
   "metadata": {},
   "outputs": [
    {
     "output_type": "stream",
     "name": "stdout",
     "text": [
      "JB2config\n"
     ]
    },
    {
     "output_type": "display_data",
     "data": {
      "text/plain": "<IPython.lib.display.IFrame at 0x7fa730eb5760>",
      "text/html": "\n        <iframe\n            width=\"100%\"\n            height=\"650\"\n            src=\"http://127.0.0.1:8050/\"\n            frameborder=\"0\"\n            allowfullscreen\n        ></iframe>\n        "
     },
     "metadata": {}
    }
   ],
   "source": [
    "jb2_config_view = create_jbrowse('JB2config', path='./test_data/volvox_config.json')\n",
    "launch_jbrowse(jb2_config_view)"
   ]
  },
  {
   "cell_type": "code",
   "execution_count": 5,
   "metadata": {},
   "outputs": [
    {
     "output_type": "stream",
     "name": "stdout",
     "text": [
      "name:hg38\nconfig\n"
     ]
    },
    {
     "output_type": "display_data",
     "data": {
      "text/plain": "<IPython.lib.display.IFrame at 0x7fa73099da00>",
      "text/html": "\n        <iframe\n            width=\"100%\"\n            height=\"650\"\n            src=\"http://127.0.0.1:8050/\"\n            frameborder=\"0\"\n            allowfullscreen\n        ></iframe>\n        "
     },
     "metadata": {}
    }
   ],
   "source": [
    "\n",
    "jbrowse_conf = JBrowseConfig()\n",
    "\n",
    "\n",
    "aliases = [\"hg38\"]\n",
    "ref_name_aliases = {\n",
    "        \"adapter\": {\n",
    "            \"type\": \"RefNameAliasAdapter\",\n",
    "            \"location\": {\n",
    "                \"uri\": \"https://s3.amazonaws.com/jbrowse.org/genomes/GRCh38/hg38_aliases.txt\",\n",
    "                \"locationType\": \"UriLocation\",\n",
    "            },\n",
    "        },\n",
    "    }\n",
    "jbrowse_conf.set_assembly(\"https://jbrowse.org/genomes/GRCh38/fasta/hg38.prefix.fa.gz\", aliases, ref_name_aliases, True)\n",
    "config = jbrowse_conf.get_config()\n",
    "jb2_config_view = create_jbrowse('config', config=config)\n",
    "launch_jbrowse(jb2_config_view)"
   ]
  },
  {
   "cell_type": "code",
   "execution_count": null,
   "metadata": {},
   "outputs": [],
   "source": []
  }
 ]
}