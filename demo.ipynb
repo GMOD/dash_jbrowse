{
 "metadata": {
  "language_info": {
   "codemirror_mode": {
    "name": "ipython",
    "version": 3
   },
   "file_extension": ".py",
   "mimetype": "text/x-python",
   "name": "python",
   "nbconvert_exporter": "python",
   "pygments_lexer": "ipython3",
   "version": "3.8.5"
  },
  "orig_nbformat": 2,
  "kernelspec": {
   "name": "python3",
   "display_name": "Python 3.8.5 64-bit ('base': conda)",
   "metadata": {
    "interpreter": {
     "hash": "d71ad1312205c4af66ddf16a009e80b6b1866332a6a57cb77f5c8248a5f1dd2a"
    }
   }
  }
 },
 "nbformat": 4,
 "nbformat_minor": 2,
 "cells": [
  {
   "cell_type": "code",
   "execution_count": 15,
   "metadata": {},
   "outputs": [],
   "source": [
    "from jupyter_dash import JupyterDash"
   ]
  },
  {
   "cell_type": "code",
   "execution_count": 40,
   "metadata": {},
   "outputs": [],
   "source": [
    "from dash_jbrowse import DashJbrowse, JBrowseConfig\n",
    "import dash_html_components as html\n",
    "import json"
   ]
  },
  {
   "cell_type": "code",
   "execution_count": 17,
   "metadata": {},
   "outputs": [],
   "source": [
    "def create_jbrowse(**kwargs):\n",
    "    if kwargs['viewType'] == 'view' and kwargs['genome'] == 'hg19':\n",
    "        return html.Div([\n",
    "            DashJbrowse(\n",
    "                id=\"view-demo\",\n",
    "                viewType='view',\n",
    "                genome='hg19'\n",
    "            )\n",
    "        ])\n",
    "    if (kwargs['viewType'] == 'JB2config'):\n",
    "        with open(kwargs['path'], 'r') as file:  \n",
    "            data = json.load(file)\n",
    "        my_assembly = data['assembly']\n",
    "        my_tracks = data['tracks']\n",
    "        my_location = data['location']\n",
    "        my_default_session = data['defaultSession']\n",
    "        return html.Div([\n",
    "            dash_jbrowse.DashJbrowse(\n",
    "                id=\"view-demo\",\n",
    "                viewType='JB2config',\n",
    "                assembly=my_assembly,\n",
    "                tracks=my_tracks,\n",
    "                defaultSession=my_default_session,\n",
    "                location=my_location,\n",
    "            )\n",
    "        ])\n",
    "    return html.Div([\n",
    "            DashJbrowse(\n",
    "                id=\"json-demo\",\n",
    "                viewType='json',\n",
    "                assembly=kwargs['assembly'],\n",
    "                tracks=kwargs['tracks'],\n",
    "                defaultSession=kwargs['defaultSession'],\n",
    "                aggregateTextSearchAdapters=kwargs['aggregateTextSearchAdapters'],\n",
    "                location=kwargs['location'],\n",
    "            )\n",
    "        ])"
   ]
  },
  {
   "cell_type": "code",
   "execution_count": 18,
   "metadata": {},
   "outputs": [],
   "source": [
    "my_assembly = {\n",
    "    \"name\": \"GRCh38\",\n",
    "    \"sequence\": {\n",
    "        \"type\": \"ReferenceSequenceTrack\",\n",
    "        \"trackId\": \"GRCh38-ReferenceSequenceTrack\",\n",
    "        \"adapter\": {\n",
    "            \"type\": \"BgzipFastaAdapter\",\n",
    "            \"fastaLocation\": {\n",
    "                \"uri\": \"https://s3.amazonaws.com/jbrowse.org/genomes/GRCh38/fasta/GRCh38.fa.gz\",\n",
    "            },\n",
    "            \"faiLocation\": {\n",
    "                \"uri\": \"https://s3.amazonaws.com/jbrowse.org/genomes/GRCh38/fasta/GRCh38.fa.gz.fai\",\n",
    "            },\n",
    "            \"gziLocation\": {\n",
    "                \"uri\": \"https://s3.amazonaws.com/jbrowse.org/genomes/GRCh38/fasta/GRCh38.fa.gz.gzi\",\n",
    "            },\n",
    "        },\n",
    "    },\n",
    "    \"aliases\": [\"hg38\"],\n",
    "    \"refNameAliases\": {\n",
    "        \"adapter\": {\n",
    "            \"type\": \"RefNameAliasAdapter\",\n",
    "            \"location\": {\n",
    "                \"uri\": \"https://s3.amazonaws.com/jbrowse.org/genomes/GRCh38/hg38_aliases.txt\",\n",
    "            },\n",
    "        },\n",
    "    },\n",
    "}\n",
    "\n",
    "my_tracks = [\n",
    "    {\n",
    "        \"type\": \"FeatureTrack\",\n",
    "        \"trackId\": \"ncbi_refseq_109_hg38\",\n",
    "        \"name\": \"NCBI RefSeq (GFF3Tabix)\",\n",
    "        \"assemblyNames\": [\"GRCh38\"],\n",
    "        \"category\": [\"Annotation\"],\n",
    "        \"adapter\": {\n",
    "            \"type\": \"Gff3TabixAdapter\",\n",
    "            \"gffGzLocation\": {\n",
    "                \"uri\": \"https://s3.amazonaws.com/jbrowse.org/genomes/GRCh38/ncbi_refseq/GCA_000001405.15_GRCh38_full_analysis_set.refseq_annotation.sorted.gff.gz\",\n",
    "            },\n",
    "            \"index\": {\n",
    "                \"location\": {\n",
    "                    \"uri\": \"https://s3.amazonaws.com/jbrowse.org/genomes/GRCh38/ncbi_refseq/GCA_000001405.15_GRCh38_full_analysis_set.refseq_annotation.sorted.gff.gz.tbi\",\n",
    "                },\n",
    "            },\n",
    "        },\n",
    "    },\n",
    "]\n",
    "\n",
    "my_default_session = {\n",
    "    \"name\": \"My session\",\n",
    "    \"view\": {\n",
    "        \"id\": \"linearGenomeView\",\n",
    "        \"type\": \"LinearGenomeView\",\n",
    "        \"tracks\": [\n",
    "            {\n",
    "                \"type\": \"FeatureTrack\",\n",
    "                \"configuration\": \"ncbi_refseq_109_hg38\",\n",
    "                \"displays\": [\n",
    "                    {\n",
    "                        \"type\": \"LinearBasicDisplay\",\n",
    "                        \"configuration\": \"ncbi_refseq_109_hg38-LinearBasicDisplay\",\n",
    "                    },\n",
    "                ],\n",
    "            },\n",
    "        ],\n",
    "    },\n",
    "}\n",
    "\n",
    "my_aggregate_text_search_adapters=[\n",
    "    {\n",
    "        \"type\": \"TrixTextSearchAdapter\",\n",
    "        \"textSearchAdapterId\": \"hg38-index\",\n",
    "        \"ixFilePath\": {\n",
    "            \"uri\": \"https://s3.amazonaws.com/jbrowse.org/genomes/GRCh38/trix/hg38.ix\"\n",
    "        },\n",
    "        \"ixxFilePath\": {\n",
    "            \"uri\": \"https://s3.amazonaws.com/jbrowse.org/genomes/GRCh38/trix/hg38.ixx\"\n",
    "        },\n",
    "        \"metaFilePath\": {\n",
    "            \"uri\": \"https://s3.amazonaws.com/jbrowse.org/genomes/GRCh38/trix/meta.json\"\n",
    "        },\n",
    "        \"assemblyNames\": ['GRCh38'],\n",
    "    }\n",
    "]\n",
    "my_location = \"7:140,713,328-140,924,929\""
   ]
  },
  {
   "cell_type": "code",
   "execution_count": 19,
   "metadata": {},
   "outputs": [],
   "source": [
    "def launch_jbrowse(jb2):\n",
    "    app = JupyterDash(__name__)\n",
    "\n",
    "    app.layout = jb2\n",
    "    \n",
    "    app.run_server(mode=\"inline\")"
   ]
  },
  {
   "cell_type": "code",
   "execution_count": 20,
   "metadata": {},
   "outputs": [
    {
     "output_type": "display_data",
     "data": {
      "text/plain": "<IPython.lib.display.IFrame at 0x7f87b93399a0>",
      "text/html": "\n        <iframe\n            width=\"100%\"\n            height=\"650\"\n            src=\"http://127.0.0.1:8050/\"\n            frameborder=\"0\"\n            allowfullscreen\n        ></iframe>\n        "
     },
     "metadata": {}
    }
   ],
   "source": [
    "launch_jbrowse(create_jbrowse(viewType='view', genome='hg19'))\n",
    "# return_jbrowse(viewType='JB2config', path='./test_data/volvox_config.json')\n",
    "# return_jbrowse(viewType='json', assembly=my_assembly, tracks=my_tracks,\n",
    "#     defaultSession=my_default_session,\n",
    "#     aggregateTextSearchAdapters=my_aggregate_text_search_adapters,\n",
    "#     location=my_location)"
   ]
  },
  {
   "cell_type": "code",
   "execution_count": 41,
   "metadata": {},
   "outputs": [
    {
     "output_type": "stream",
     "name": "stdout",
     "text": [
      "<dash_jbrowse.jbrowse_config.JBrowseConfig object at 0x7f87b948fd00>\n"
     ]
    },
    {
     "output_type": "error",
     "ename": "AttributeError",
     "evalue": "'JBrowseConfig' object has no attribute 'addAssembly'",
     "traceback": [
      "\u001b[0;31m---------------------------------------------------------------------------\u001b[0m",
      "\u001b[0;31mAttributeError\u001b[0m                            Traceback (most recent call last)",
      "\u001b[0;32m<ipython-input-41-ea5bd984049d>\u001b[0m in \u001b[0;36m<module>\u001b[0;34m\u001b[0m\n\u001b[1;32m      1\u001b[0m \u001b[0mconfig\u001b[0m \u001b[0;34m=\u001b[0m \u001b[0mJBrowseConfig\u001b[0m\u001b[0;34m(\u001b[0m\u001b[0;34m)\u001b[0m\u001b[0;34m\u001b[0m\u001b[0;34m\u001b[0m\u001b[0m\n\u001b[1;32m      2\u001b[0m \u001b[0mprint\u001b[0m\u001b[0;34m(\u001b[0m\u001b[0mconfig\u001b[0m\u001b[0;34m)\u001b[0m\u001b[0;34m\u001b[0m\u001b[0;34m\u001b[0m\u001b[0m\n\u001b[0;32m----> 3\u001b[0;31m \u001b[0mconfig\u001b[0m\u001b[0;34m.\u001b[0m\u001b[0maddAssembly\u001b[0m\u001b[0;34m(\u001b[0m\u001b[0;34m'hi'\u001b[0m\u001b[0;34m)\u001b[0m\u001b[0;34m\u001b[0m\u001b[0;34m\u001b[0m\u001b[0m\n\u001b[0m\u001b[1;32m      4\u001b[0m \u001b[0mprint\u001b[0m\u001b[0;34m(\u001b[0m\u001b[0mconfig\u001b[0m\u001b[0;34m.\u001b[0m\u001b[0massembly\u001b[0m\u001b[0;34m)\u001b[0m\u001b[0;34m\u001b[0m\u001b[0;34m\u001b[0m\u001b[0m\n",
      "\u001b[0;31mAttributeError\u001b[0m: 'JBrowseConfig' object has no attribute 'addAssembly'"
     ]
    }
   ],
   "source": [
    "from dash_jbrowse import JBrowseConfig\n",
    "config = JBrowseConfig()\n",
    "print(config)\n",
    "config.addAssembly('hi')\n",
    "print(config.assembly)"
   ]
  },
  {
   "cell_type": "code",
   "execution_count": null,
   "metadata": {},
   "outputs": [],
   "source": []
  }
 ]
}